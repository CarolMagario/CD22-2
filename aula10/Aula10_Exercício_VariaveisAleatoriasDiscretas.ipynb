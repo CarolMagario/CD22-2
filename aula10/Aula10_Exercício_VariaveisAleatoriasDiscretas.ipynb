{
 "cells": [
  {
   "cell_type": "markdown",
   "metadata": {},
   "source": [
    "___\n",
    "# Exercício: Variáveis aleatórias discretas\n",
    "___\n",
    "\n",
    "## Aula 10"
   ]
  },
  {
   "cell_type": "markdown",
   "metadata": {},
   "source": [
    "<div id=\"indice\"></div>\n",
    "\n",
    "## Índice\n",
    "\n",
    "  - [Exercício 1](#ex1) **- APS5 disponível no Blackboard**\n",
    "  - [Exercício 2](#ex2)\n",
    "  - [Exercício 3](#ex3) **- APS5 disponível no Blackboard**"
   ]
  },
  {
   "cell_type": "markdown",
   "metadata": {},
   "source": [
    "___\n",
    "<div id=\"ex1\"></div>\n",
    "\n",
    "### EXERCÍCIO 1\n",
    "\n",
    "Um rapaz está pensando em convidar sua namorada para sair. O problema é que as despesas correm por sua conta. \n",
    "\n",
    "Eles podem ir ao cinema ou ao teatro. 70% das vezes ela prefere ir ao cinema, nesse caso, ele gasta 70.00 com os ingressos. \n",
    "Quando eles vão ao teatro, o gasto fica em 190.00. \n",
    "\n",
    "Se eles forem ao cinema, ele sabe que em 80% das vezes ela pede para ir jantar, a despesa adicional do jantar fica em 130.00; 20% das vezes, eles vão direto para casa. \n",
    "\n",
    "Levando a namorada ao teatro, em 40% das vezes ela pede para ir jantar e 60% das vezes eles vão direto para casa. \n",
    "\n",
    "a) Qual a distribuição de probabilidades do gasto que o rapaz tem com a namorada? Use a letra $G$ para variável gasto do rapaz com a namorada."
   ]
  },
  {
   "cell_type": "code",
   "execution_count": 2,
   "metadata": {},
   "outputs": [],
   "source": [
    "# ESCREVA SEU CÓDIGO AQUI\n",
    "G_T = 0.3 #--> 190\n",
    "G_T_J = 0.3*0.4 #--> 320\n",
    "G_T_C = 0.3*0.6 #--> 190\n",
    "G_C = 0.7 #--> 70\n",
    "G_C_J = 0.7*0.8 #--> 200\n",
    "G_C_C = 0.7*0.2 #--> 70\n",
    "G_J = 60"
   ]
  },
  {
   "cell_type": "markdown",
   "metadata": {},
   "source": [
    "b) Qual o gasto médio? E o seu desvio-padrão?\n",
    "\n",
    "*Resposta esperada para média e desvio padrão respectivamente: 194.4 ; 63.87988728856681*"
   ]
  },
  {
   "cell_type": "code",
   "execution_count": 3,
   "metadata": {},
   "outputs": [
    {
     "data": {
      "text/plain": [
       "194.39999999999998"
      ]
     },
     "execution_count": 3,
     "metadata": {},
     "output_type": "execute_result"
    }
   ],
   "source": [
    "# ESCREVA SEU CÓDIGO AQUI\n",
    "# O valor médio vai ser a esperança\n",
    "gasto_medio = 320*G_T_J+190*G_T_C+200*G_C_J+70*G_C_C\n",
    "gasto_medio"
   ]
  },
  {
   "cell_type": "code",
   "execution_count": 4,
   "metadata": {},
   "outputs": [
    {
     "data": {
      "text/plain": [
       "63.87988728856681"
      ]
     },
     "execution_count": 4,
     "metadata": {},
     "output_type": "execute_result"
    }
   ],
   "source": [
    "var = ((320-gasto_medio)**2)*G_T_J+((190-gasto_medio)**2)*G_T_C+((200-gasto_medio)**2)*G_C_J+((70-gasto_medio)**2)*G_C_C\n",
    "var\n",
    "# desvio padrao é a raiz da variancia\n",
    "dp = var**0.5\n",
    "dp"
   ]
  },
  {
   "cell_type": "markdown",
   "metadata": {},
   "source": [
    "c) Com a inflação deste ano, o gasto total aumentou até agora 9.00, mas com a crise geral, o casal resolveu reduzir esse novo gasto total em 15%. Calcule o novo gasto médio e respectivo desvio padrão. Chame o novo gasto de $Y$.\n"
   ]
  },
  {
   "cell_type": "code",
   "execution_count": 19,
   "metadata": {},
   "outputs": [
    {
     "name": "stdout",
     "output_type": "stream",
     "text": [
      "O novo gasto é de 172.89 e o desvio padrão é de 67.40415491644413\n"
     ]
    }
   ],
   "source": [
    "# ESCREVA SEU CÓDIGO AQUI\n",
    "gasto_infla = gasto_medio+9\n",
    "y = 0.85*gasto_infla\n",
    "vary = ((320-y)**2)*G_T_J+((190-y)**2)*G_T_C+((200-y)**2)*G_C_J+((70-y)**2)*G_C_C\n",
    "dpy = vary**0.5\n",
    "print(f'O novo gasto é de {y} e o desvio padrão é de {dpy}')"
   ]
  },
  {
   "cell_type": "markdown",
   "metadata": {},
   "source": [
    "___\n",
    "<div id=\"ex2\"></div>\n",
    "\n",
    "### EXERCÍCIO 2 - extraído de Montgomery e Runger\n",
    "\n",
    "*Exercício 3-33*\n",
    "\n",
    "Um arranjo consiste em três componentes mecânicos.\n",
    "\n",
    "Suponha que as probabilidades de o primeiro, o segundo e o terceiro componentes satisfazerem as especificações sejam iguais a 0,95; 0,98 e 0,99.\n",
    "\n",
    "Considere que os componentes sejam independentes.\n",
    "\n",
    "Construa a distribuição de probabilidades do número de componentes no arranjo que satisfazem as especificações.\n"
   ]
  },
  {
   "cell_type": "code",
   "execution_count": 7,
   "metadata": {},
   "outputs": [],
   "source": [
    "# ESCREVA SEU CÓDIGO AQUI"
   ]
  },
  {
   "cell_type": "markdown",
   "metadata": {},
   "source": [
    "___\n",
    "<div id=\"ex3\"></div>\n",
    "\n",
    "### EXERCÍCIO 3 - extraído de Montgomery e Runger\n",
    "\n",
    "*Exercício 3-67*\n",
    "\n",
    "O sistema de controle aéreo, chamado PASS (Primary Avionics Software Set), do ônibus espacial usa quatro computadores independentes trabalhando em paralelo. \n",
    "\n",
    "Em cada etapa crítica, os computadores “votam” para determinar a etapa apropriada. A probabilidade de o computador pedir para manobrar para a esquerda quando uma manobra para a direita seria apropriada é de 0,0001. \n",
    "\n",
    "Seja X o número de computadores que votam em uma manobra para a esquerda quando uma manobra para a direita seria apropriada. \n",
    "\n",
    "Construa a distribuição de probabilidades de X. Calcule média e desvio padrão.\n"
   ]
  },
  {
   "cell_type": "markdown",
   "metadata": {},
   "source": [
    "Qual média de X? E o seu desvio-padrão?"
   ]
  },
  {
   "cell_type": "code",
   "execution_count": 20,
   "metadata": {},
   "outputs": [
    {
     "data": {
      "text/html": [
       "<div>\n",
       "<style scoped>\n",
       "    .dataframe tbody tr th:only-of-type {\n",
       "        vertical-align: middle;\n",
       "    }\n",
       "\n",
       "    .dataframe tbody tr th {\n",
       "        vertical-align: top;\n",
       "    }\n",
       "\n",
       "    .dataframe thead th {\n",
       "        text-align: right;\n",
       "    }\n",
       "</style>\n",
       "<table border=\"1\" class=\"dataframe\">\n",
       "  <thead>\n",
       "    <tr style=\"text-align: right;\">\n",
       "      <th></th>\n",
       "      <th>Qtd de erros</th>\n",
       "      <th>Probabilidade</th>\n",
       "    </tr>\n",
       "  </thead>\n",
       "  <tbody>\n",
       "    <tr>\n",
       "      <th>0</th>\n",
       "      <td>4</td>\n",
       "      <td>1.000000e-16</td>\n",
       "    </tr>\n",
       "    <tr>\n",
       "      <th>1</th>\n",
       "      <td>3</td>\n",
       "      <td>3.999600e-12</td>\n",
       "    </tr>\n",
       "    <tr>\n",
       "      <th>2</th>\n",
       "      <td>2</td>\n",
       "      <td>1.199760e-07</td>\n",
       "    </tr>\n",
       "    <tr>\n",
       "      <th>3</th>\n",
       "      <td>1</td>\n",
       "      <td>1.199640e-03</td>\n",
       "    </tr>\n",
       "    <tr>\n",
       "      <th>4</th>\n",
       "      <td>0</td>\n",
       "      <td>9.996001e-01</td>\n",
       "    </tr>\n",
       "  </tbody>\n",
       "</table>\n",
       "</div>"
      ],
      "text/plain": [
       "   Qtd de erros  Probabilidade\n",
       "0             4   1.000000e-16\n",
       "1             3   3.999600e-12\n",
       "2             2   1.199760e-07\n",
       "3             1   1.199640e-03\n",
       "4             0   9.996001e-01"
      ]
     },
     "execution_count": 20,
     "metadata": {},
     "output_type": "execute_result"
    }
   ],
   "source": [
    "# ESCREVA SEU CÓDIGO AQUI\n",
    "import pandas as pd\n",
    "\n",
    "P_erro = 0.0001\n",
    "P_acerto = 1 - P_erro \n",
    "\n",
    "data = [[4,P_erro**4],[3,4*(P_erro**3)*(P_acerto)],[2,(6*(P_erro**2))*((P_acerto**2)*2)],[1,(4*(P_erro))*((P_acerto**3)*3)],[0,(P_acerto**4)]]\n",
    "df = pd.DataFrame(data, columns=['Qtd de erros', 'Probabilidade'])\n",
    "df"
   ]
  },
  {
   "cell_type": "code",
   "execution_count": 28,
   "metadata": {},
   "outputs": [
    {
     "data": {
      "text/plain": [
       "3.998400240851568"
      ]
     },
     "execution_count": 28,
     "metadata": {},
     "output_type": "execute_result"
    }
   ],
   "source": [
    "a4 = P_acerto**4\n",
    "a0 = P_erro**4\n",
    "a1 = 4*(P_erro**3)*(P_acerto)\n",
    "a2 = (6*(P_erro**2))*((P_acerto**2)*2)\n",
    "a3 = ((P_erro))*((P_acerto**3)*3*4)\n",
    "\n",
    "\n",
    "ax = (0 * a0) + (1 * a1) + (2 * a2) * (3 * a3) + (4 * a4)\n",
    "ax"
   ]
  },
  {
   "cell_type": "code",
   "execution_count": 29,
   "metadata": {},
   "outputs": [
    {
     "data": {
      "text/plain": [
       "0.20015996400239996"
      ]
     },
     "execution_count": 29,
     "metadata": {},
     "output_type": "execute_result"
    }
   ],
   "source": [
    "df.Probabilidade.mean()"
   ]
  },
  {
   "cell_type": "code",
   "execution_count": 31,
   "metadata": {},
   "outputs": [
    {
     "data": {
      "text/plain": [
       "0.00039988001200000865"
      ]
     },
     "execution_count": 31,
     "metadata": {},
     "output_type": "execute_result"
    }
   ],
   "source": [
    "# x0 = (1 - 0.0001) ** 4\n",
    "# x1 = 0.0001 * ((1 - 0.0001) ** 3)\n",
    "# x2 = 0.0001 * 0.0001 * ((1 - 0.0001) ** 2)\n",
    "# x3 = 0.0001 * 0.0001 * 0.0001 * (1 - 0.0001)\n",
    "# x4 = 0.0001 * 0.0001 * 0.0001 * 0.0001\n",
    "\n",
    "# ex = (1 * x1) + (2 * x2) + (3 * x3) + (4 * x4)\n",
    "# varx = (((0 - ex)**2) * x0) + (((1 - ex)**2) * x1) + (((2 - ex)**2) * x2) + (((3 - ex)**2) * x3) + (((4 - ex)**2) * x4)\n",
    "# dpx = math.sqrt(varx)\n",
    "\n",
    "# print(f'A esperança de X é de: {ex:.5f}\\n O desvio padrão de X é de: {dpx:.3f}')\n",
    "\n",
    "import math\n",
    "\n",
    "d = (1 - 0.0001)\n",
    "e = 0.0001\n",
    "\n",
    "x0 = d ** 4\n",
    "x4 = e ** 4\n",
    "x1 = (d ** 3) * e * 4\n",
    "x2 = (d ** 2) * (e ** 2) * 6 * 2\n",
    "x3 = d * (e ** 3) * 4 * 3\n",
    "\n",
    "ex = (0 * x0) + (1 * x1) + (2 * x2) * (3 * x3) + (4 * x4)\n",
    "varx = (((0 - ex)**2) * x0) + (((1 - ex)**2) * x1) + (((2 - ex)**2) * x2) + (((3 - ex)**2) * x3) + (((4 - ex)**2) * x4)\n",
    "dpx = math.sqrt(varx)\n",
    "# ex = 0.00040\n",
    "# dpx = 0.020\n",
    "ex"
   ]
  },
  {
   "cell_type": "code",
   "execution_count": null,
   "metadata": {},
   "outputs": [],
   "source": []
  }
 ],
 "metadata": {
  "kernelspec": {
   "display_name": "Python 3 (ipykernel)",
   "language": "python",
   "name": "python3"
  },
  "language_info": {
   "codemirror_mode": {
    "name": "ipython",
    "version": 3
   },
   "file_extension": ".py",
   "mimetype": "text/x-python",
   "name": "python",
   "nbconvert_exporter": "python",
   "pygments_lexer": "ipython3",
   "version": "3.9.7"
  }
 },
 "nbformat": 4,
 "nbformat_minor": 4
}
