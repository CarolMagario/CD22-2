{
 "cells": [
  {
   "cell_type": "markdown",
   "metadata": {},
   "source": [
    "___\n",
    "# Atividade: Experimento dos Resistores\n",
    "___\n",
    "## Aula 22"
   ]
  },
  {
   "cell_type": "code",
   "execution_count": 3,
   "metadata": {},
   "outputs": [],
   "source": [
    "%matplotlib inline\n",
    "import matplotlib.pyplot as plt\n",
    "import pandas as pd\n",
    "import numpy as np\n",
    "from scipy import stats\n",
    "\n",
    "from math import sqrt"
   ]
  },
  {
   "cell_type": "markdown",
   "metadata": {},
   "source": [
    "___\n",
    "<div id=\"resistores\"></div>\n",
    "\n",
    "# Comprar ou não comprar um lote de resistores?\n",
    "\n",
    "Sua empresa está desenvolvendo um produto e o seu departamento ficou responsável por indicar um fabricante de resistores para ser utilizado nesse projeto.\n",
    "\n",
    "Serão comprados muitos resistores e ficaria inviável medi-los individualmente para garantir um mínimo de qualidade ao seu produto.\n",
    "\n",
    "Para auxiliar na sua a tomada de decisão sobre a compra ou não de um lote de resistores, o fabricante enviou uma pequena amostra aleatória de $n$ unidades. Assim, você deve utilizar essa amostra para tomar uma decisão sobre o lote todo (contexto populacional).\n",
    "\n",
    "Considere aqui que o desvio padrão populacional seja conhecido e valha $\\sigma=25 k\\Omega$. \n",
    "\n",
    "Ainda, assuma que não está sendo questionada a qualidade do fabricante decorrente à variabilidade das resistências.\n",
    "\n",
    "\n",
    "**Responda:**"
   ]
  },
  {
   "cell_type": "markdown",
   "metadata": {},
   "source": [
    "**a)** Você receberá um envelope com a amostra de resistores. Faça:\n",
    "\n",
    " * mensure a resistência de cada resistor;\n",
    " * guarde esses valores em uma lista; e\n",
    " * calcule a resistência **média amostral** e o **tamanho da amostra**.\n",
    " \n",
    "Trabalhe em dupla neste item."
   ]
  },
  {
   "cell_type": "code",
   "execution_count": null,
   "metadata": {},
   "outputs": [],
   "source": [
    "# ESCREVA SUA RESPOSTA AQUI"
   ]
  },
  {
   "cell_type": "code",
   "execution_count": 8,
   "metadata": {},
   "outputs": [
    {
     "data": {
      "text/plain": [
       "'A média amostral é 1.0354615384615384 ohms e o tamanho da amostra é 13.'"
      ]
     },
     "execution_count": 8,
     "metadata": {},
     "output_type": "execute_result"
    }
   ],
   "source": [
    "resistores=[1.016,1.054,0.991,1.061,1.052,1.049,0.992,1.058,1.011,1.039,1.067,1.057,1.014] #todos estão na escala de Mega Ohms\n",
    "media = sum(resistores)/len(resistores)\n",
    "tamanho = len(resistores)\n",
    "f'A média amostral é {media} ohms e o tamanho da amostra é {tamanho}.'"
   ]
  },
  {
   "cell_type": "markdown",
   "metadata": {},
   "source": [
    "**b)** Considerando o que foi feito no item anterior, descreva:\n",
    "  * Variável de interesse $X$ em termos do problema; e\n",
    "  * Parâmetro de interesse (valor populacional) para ter motivado o cálculo da média amostral."
   ]
  },
  {
   "cell_type": "code",
   "execution_count": null,
   "metadata": {},
   "outputs": [],
   "source": [
    "# ESCREVA SUA RESPOSTA AQUI"
   ]
  },
  {
   "cell_type": "markdown",
   "metadata": {},
   "source": [
    "\n",
    "  A variável de interesse X representa a resistência de cada resistor, já o parâmetro de interesse é a média desse conjunto de ressitências.\n"
   ]
  },
  {
   "cell_type": "code",
   "execution_count": 9,
   "metadata": {},
   "outputs": [],
   "source": [
    "#representa um conjunto com todos os elementos possiveis\n",
    "#o parametro é a média"
   ]
  },
  {
   "cell_type": "markdown",
   "metadata": {},
   "source": [
    "**c)** Seja $\\overline{X}$ a média amostral considerando uma amostra de $n$ resistores selecionados aleatoriamente. Qual é a distribuição de probabilidades de $\\overline{X}$ (qual distribuição e quais os seus respectivos parâmetros)? Aqui foi feito uso do TLC? Justifique porquê."
   ]
  },
  {
   "cell_type": "code",
   "execution_count": null,
   "metadata": {},
   "outputs": [],
   "source": [
    "# ESCREVA SUA RESPOSTA AQUI"
   ]
  },
  {
   "cell_type": "code",
   "execution_count": 17,
   "metadata": {},
   "outputs": [
    {
     "data": {
      "text/plain": [
       "0.02592"
      ]
     },
     "execution_count": 17,
     "metadata": {},
     "output_type": "execute_result"
    }
   ],
   "source": [
    "dp = np.std(resistores)\n",
    "var = dp**2\n",
    "f'A  é de {margem}.'"
   ]
  },
  {
   "cell_type": "code",
   "execution_count": 74,
   "metadata": {},
   "outputs": [
    {
     "data": {
      "text/plain": [
       "0.06933752452815364"
      ]
     },
     "execution_count": 74,
     "metadata": {},
     "output_type": "execute_result"
    }
   ],
   "source": [
    "0.25/n**0.5"
   ]
  },
  {
   "cell_type": "markdown",
   "metadata": {},
   "source": [
    "A distribuição tem um valor central de 1Mohm, uma variância de 0.25 Ohms e um desvio-padrão de 0.069 Ohms. A partir da análise do gráfico de TLC, foi assumido que é uma distribuição normal, por conta do formato da curva."
   ]
  },
  {
   "cell_type": "code",
   "execution_count": 76,
   "metadata": {},
   "outputs": [
    {
     "data": {
      "text/plain": [
       "Text(0.5, 1.0, 'X~Normal, E(X)=1 e Var(X)=0.0006719408284023668')"
      ]
     },
     "execution_count": 76,
     "metadata": {},
     "output_type": "execute_result"
    },
    {
     "data": {
      "image/png": "[encoded data removed]",
      "text/plain": [
       "<Figure size 1080x360 with 1 Axes>"
      ]
     },
     "metadata": {
      "needs_background": "light"
     },
     "output_type": "display_data"
    }
   ],
   "source": [
    "plt.figure(figsize=(15,5))\n",
    "\n",
    "plt.subplot(121)\n",
    "\n",
    "mu = 1\n",
    "eixo_x = np.linspace(0.95,1.05,100)\n",
    "fx = stats.norm.pdf(eixo_x, loc=mu, scale = sigma/n**0.5) #o raiz de n serve para achar a distribuição da média de X\n",
    "\n",
    "plt.plot(eixo_x, fx, color='blue',lw=3)\n",
    "plt.ylabel('densidade')\n",
    "plt.xlabel('valores de x')\n",
    "plt.title(f'X~Normal, E(X)={mu} e Var(X)={sigma**2}')\n"
   ]
  },
  {
   "cell_type": "markdown",
   "metadata": {},
   "source": [
    "**d)** Obtenha a margem de erro considerando um coeficiente de confiança igual a $95\\%$.\n",
    "\n",
    "**Dica:** Aqui será necessário fazer uso da Normal Padrão, porém padronização a média amostral, ou seja,\n",
    "$$Z = \\frac{\\overline{X}-\\mu}{\\sigma/\\sqrt{n}} \\sim N(0; 1)$$"
   ]
  },
  {
   "cell_type": "code",
   "execution_count": null,
   "metadata": {},
   "outputs": [],
   "source": [
    "# ESCREVA SEU CÓDIGO AQUI"
   ]
  },
  {
   "cell_type": "code",
   "execution_count": 68,
   "metadata": {},
   "outputs": [
    {
     "data": {
      "text/plain": [
       "'A margem é de 0.01182554311591738.'"
      ]
     },
     "execution_count": 68,
     "metadata": {},
     "output_type": "execute_result"
    }
   ],
   "source": [
    "z = stats.norm.ppf(0.95)\n",
    "sigma = dp\n",
    "n = 13\n",
    "\n",
    "margem = z*sigma/n**0.5\n",
    "f'A margem é de {margem}.'"
   ]
  },
  {
   "cell_type": "code",
   "execution_count": null,
   "metadata": {},
   "outputs": [],
   "source": []
  },
  {
   "cell_type": "markdown",
   "metadata": {},
   "source": [
    "**e)** Qual deveria ser o tamanho da amostra para se ter uma margem de erro de $3 k\\Omega$, com coeficiente de confiança igual a $95\\%$."
   ]
  },
  {
   "cell_type": "code",
   "execution_count": null,
   "metadata": {},
   "outputs": [],
   "source": [
    "# ESCREVA SEU CÓDIGO AQUI"
   ]
  },
  {
   "cell_type": "code",
   "execution_count": 32,
   "metadata": {},
   "outputs": [
    {
     "data": {
      "text/plain": [
       "'O tamanho deveria ser 202.0.'"
      ]
     },
     "execution_count": 32,
     "metadata": {},
     "output_type": "execute_result"
    }
   ],
   "source": [
    "z = stats.norm.ppf(0.95)\n",
    "margem = 0.003\n",
    "n = np.ceil((z*sigma/margem)**2)\n",
    "f'O tamanho deveria ser {n}.'"
   ]
  },
  {
   "cell_type": "code",
   "execution_count": null,
   "metadata": {},
   "outputs": [],
   "source": []
  },
  {
   "cell_type": "markdown",
   "metadata": {},
   "source": [
    "**f)** Agora, considerando a estimativa para a média populacional obtida no item (a), você compraria ou não o lote?\n",
    "Faça uma tomada de decisão baseada no cálculo de uma probabilidade. *Dica:* será necessário fazer alguma hipótese sobre o lote do fabricante. "
   ]
  },
  {
   "cell_type": "code",
   "execution_count": null,
   "metadata": {},
   "outputs": [],
   "source": [
    "# ESCREVA SEU CÓDIGO AQUI"
   ]
  },
  {
   "cell_type": "markdown",
   "metadata": {},
   "source": [
    "A escolha da compra depende de qual o objetivo dos resistores, como a variância é um número pequeno em relação ao total da resistência, o resistor poderia ser utilizado para objetivos em que a precisão não necessite ser muito precisa. Já para objetivos em que a resistência necessite ser exatamente 1Mohm, não seria recomendada a compra desse tipo de resistor.\n",
    "Ademais, é necessário considerar um certo grau de imprecisão durante os cálculos das variáveis, podendo fazer com que o resistor possua uma maior ou menor precisão de sua resistência."
   ]
  },
  {
   "cell_type": "code",
   "execution_count": null,
   "metadata": {},
   "outputs": [],
   "source": []
  },
  {
   "cell_type": "code",
   "execution_count": null,
   "metadata": {},
   "outputs": [],
   "source": []
  }
 ],
 "metadata": {
  "hide_input": false,
  "kernelspec": {
   "display_name": "Python 3.9.7 ('base')",
   "language": "python",
   "name": "python3"
  },
  "language_info": {
   "codemirror_mode": {
    "name": "ipython",
    "version": 3
   },
   "file_extension": ".py",
   "mimetype": "text/x-python",
   "name": "python",
   "nbconvert_exporter": "python",
   "pygments_lexer": "ipython3",
   "version": "3.9.7"
  },
  "vscode": {
   "interpreter": {
    "hash": "93626ebdf6b37739e4ac5700c0dba13041517f6c4b50580fe5c850e4df425864"
   }
  }
 },
 "nbformat": 4,
 "nbformat_minor": 2
}
