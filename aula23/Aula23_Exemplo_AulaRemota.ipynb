{
 "cells": [
  {
   "cell_type": "markdown",
   "metadata": {},
   "source": [
    "___\n",
    "# Exemplo: Teste de hipóteses\n",
    "\n",
    "___\n",
    "## Aula 23\n"
   ]
  },
  {
   "cell_type": "code",
   "execution_count": 1,
   "metadata": {},
   "outputs": [],
   "source": [
    "from scipy import stats\n",
    "from math import sqrt"
   ]
  },
  {
   "cell_type": "markdown",
   "metadata": {},
   "source": [
    "___\n",
    "## Problema - Aulas remotas\n",
    "\n",
    "Nas épocas de aulas presenciais, a distribuição de probabilidades das notas em determinada prova historicamente se comportava como uma normal com média igual a 6 e desvio padrão igual a 0,8. \n",
    "\n",
    "Devido ao novo formato de alunas remotas, alguns especialistas desconfiam que a nota média nessa prova tenha aumentado. Ainda, segundo esses especialistas, não existem razões para acreditar em alterações no valor do desvio padrão, na distribuição de probabilidades da variável de interesse e nem que a média tenha diminuído.\n",
    "\n",
    "Como verificar se os especialistas estão certos a partir de uma amostra de 36 alunos?\n"
   ]
  },
  {
   "cell_type": "markdown",
   "metadata": {},
   "source": [
    "**Faça:**\n",
    "\n",
    "Descreva:\n",
    " * Variável de interesse $X$;\n",
    " * Parâmetro de interesse (valor numérico populacional, usualmente, desconhecido);\n",
    " * Hipóteses nula e alternativa em termos do problema e em termos do parâmetro; e \n",
    " * Distribuição de $\\bar{X}$ sob $H_0$:"
   ]
  },
  {
   "cell_type": "code",
   "execution_count": null,
   "metadata": {},
   "outputs": [],
   "source": [
    "# A média (mu) é um parâmetro populacional, e o meu questionamento vai ser sobre ela\n",
    "# Exemplo, garrafa de coca X~N(600,9) --> sigma = 3\n",
    "# Se o meu questionamento é em relação a média vou fazer o x̅: ml médio em 25 garrafas, e usar o teorema do limite central\n",
    "# x̅~N(600,9/25), sigma = 3/5\n",
    "5%, 10% ou 1% --> geralmente se usa 5% de probab para aceitar até onde x̅ pode estar, se ultrapassar, estão mentindo, se estiver dentro se fala que o teste não evidencia problemas\n",
    "eu não utilizei o TLC pois já é uma normal o X original, ent não é necessário aplicar o TLC"
   ]
  },
  {
   "cell_type": "code",
   "execution_count": null,
   "metadata": {},
   "outputs": [],
   "source": [
    "# Hipóteses\n",
    "# X: nota de um aluno\n",
    "# O meu parâmetro de interesse é mu (média populacional)"
   ]
  },
  {
   "cell_type": "code",
   "execution_count": null,
   "metadata": {},
   "outputs": [],
   "source": [
    "# Hipóteses em termos dos parâmetros\n",
    "# Hipótese nula (verificar se é mentira): H0: mu = 6\n",
    "# H1 (é a novidade/ chamada de hipótese alternativa): mu>6\n",
    "\n",
    "# Hipóteses em termos do problema\n",
    "# H0: a média não aumentou --> cenário em que as coisas não mudaram\n",
    "# H1: a média aumentou --> quando teve uma mudança"
   ]
  },
  {
   "cell_type": "code",
   "execution_count": null,
   "metadata": {},
   "outputs": [],
   "source": [
    "# Distribuição de X barra sob H0:\n",
    "# X segue uma normal com média igual a 6 e desvio-padrão igual a 0.8\n",
    "# Então, X barra segue uma distribuição normal com média igual a 6 e desvio-padrão igual a 0.8/36**0.5\n",
    "# Como X é normal, não fizemos uso do TLC(se fosse outra distribuição, precisariamos supor n suficiente para aplicar TLC)"
   ]
  },
  {
   "cell_type": "code",
   "execution_count": 4,
   "metadata": {},
   "outputs": [],
   "source": [
    "# variáveis\n",
    "sigma = 0.8\n",
    "var = sigma**2\n",
    "mu = 6\n",
    "# X~N(6,0.64)\n",
    "n = 36 "
   ]
  },
  {
   "cell_type": "markdown",
   "metadata": {},
   "source": [
    "**Continuação...**\n",
    "\n",
    "Supondo 𝐻_0 verdadeira, ou seja, 𝜇=6 e selecionando uma amostra aleatória de 𝑛=36 provas.\n",
    "Encontre 𝑐 tal que 𝛼 seja igual a 5%."
   ]
  },
  {
   "cell_type": "code",
   "execution_count": null,
   "metadata": {},
   "outputs": [],
   "source": [
    "# Escreva seu código aqui"
   ]
  },
  {
   "cell_type": "code",
   "execution_count": 5,
   "metadata": {},
   "outputs": [],
   "source": [
    "# Ponto de corte: determinado por alfa (região que engloba uma certa porcentagem em que aceita que houve mudança)"
   ]
  },
  {
   "cell_type": "code",
   "execution_count": 8,
   "metadata": {},
   "outputs": [],
   "source": [
    "alpha = 0.05\n",
    "n = 36\n",
    "sigma = 0.8\n",
    "sigma_xbarra = 0.8/36**0.5\n",
    "mu = 6\n",
    "mu_barra = mu"
   ]
  },
  {
   "cell_type": "code",
   "execution_count": 14,
   "metadata": {},
   "outputs": [
    {
     "data": {
      "text/plain": [
       "6.219313816926863"
      ]
     },
     "execution_count": 14,
     "metadata": {},
     "output_type": "execute_result"
    }
   ],
   "source": [
    "c= stats.norm.ppf(1-alpha, loc=mu_barra,scale= sigma_xbarra)\n",
    "c"
   ]
  },
  {
   "cell_type": "code",
   "execution_count": 13,
   "metadata": {},
   "outputs": [
    {
     "name": "stdout",
     "output_type": "stream",
     "text": [
      "Para valores (média amostral) acima de 6.2193, rejeitamos ho e aceitamos que a média das notas na pandemia aumentou.\n",
      "Caso contrário (média amostral abaixo de 6.2193), não há evidências suficientes de que a média das notas apos a pandemia aumentou\n"
     ]
    }
   ],
   "source": [
    "print(f'Para valores (média amostral) acima de {c:.4f}, rejeitamos ho e aceitamos que a média das notas na pandemia aumentou.\\nCaso contrário (média amostral abaixo de {c:.4f}), não há evidências suficientes de que a média das notas apos a pandemia aumentou')"
   ]
  },
  {
   "cell_type": "markdown",
   "metadata": {},
   "source": [
    "**Continuação...**\n",
    "\n",
    "Fato: Uma amostra aleatória de 𝑛=36 provas foi selecionada no momento com as aulas remotas e foi observada uma média amostral igual a 6,5 (**estimativa**). Qual sua conclusão com relação ao problema?\n"
   ]
  },
  {
   "cell_type": "code",
   "execution_count": null,
   "metadata": {},
   "outputs": [],
   "source": [
    "# Escreva seu código aqui"
   ]
  },
  {
   "cell_type": "code",
   "execution_count": null,
   "metadata": {},
   "outputs": [],
   "source": [
    "# Como 6.5 pertence a região critica, rejeitamos H0, ou seja, aceitamos que a media das notas na pandemia aumentou "
   ]
  },
  {
   "cell_type": "code",
   "execution_count": null,
   "metadata": {},
   "outputs": [],
   "source": []
  },
  {
   "cell_type": "code",
   "execution_count": null,
   "metadata": {},
   "outputs": [],
   "source": []
  }
 ],
 "metadata": {
  "kernelspec": {
   "display_name": "Python 3.9.7 ('base')",
   "language": "python",
   "name": "python3"
  },
  "language_info": {
   "codemirror_mode": {
    "name": "ipython",
    "version": 3
   },
   "file_extension": ".py",
   "mimetype": "text/x-python",
   "name": "python",
   "nbconvert_exporter": "python",
   "pygments_lexer": "ipython3",
   "version": "3.9.7"
  },
  "vscode": {
   "interpreter": {
    "hash": "93626ebdf6b37739e4ac5700c0dba13041517f6c4b50580fe5c850e4df425864"
   }
  }
 },
 "nbformat": 4,
 "nbformat_minor": 2
}
