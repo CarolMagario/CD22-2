{
 "cells": [
  {
   "cell_type": "markdown",
   "metadata": {},
   "source": [
    "___\n",
    "# Exercício: Propriedades de esperança e variância para Combinação linear de variáveis aleatórias\n",
    "___\n",
    "\n",
    "## Aula 19"
   ]
  },
  {
   "cell_type": "markdown",
   "metadata": {},
   "source": [
    "___\n",
    "<div id=\"indice\"></div>\n",
    "\n",
    "## Índice\n",
    "\n",
    "- [Exercício 1](#ex1)\n",
    "- [Exercício 2](#ex2)\n",
    "- [Exercício 3](#ex3)\n",
    "- [Exercício 4](#ex4)\n",
    "- [Exercício 5](#ex5)\n",
    "- [Exercício 6](#ex6)\n",
    "\n",
    "\n",
    "- [Respostas](#respostas)\n",
    "    - [Exercício 1a](#resposta1a)\n",
    "    - [Exercício 1b](#resposta1b)\n",
    "    - [Exercício 2a](#resposta2a)\n",
    "    - [Exercício 2b](#resposta2b)\n",
    "    - [Exercício 3](#resposta3)\n",
    "    - [Exercício 4](#resposta4)\n",
    "    - [Exercício 5](#resposta5)\n",
    "______"
   ]
  },
  {
   "cell_type": "code",
   "execution_count": 1,
   "metadata": {},
   "outputs": [],
   "source": [
    "from scipy import stats\n",
    "import pandas as pd\n",
    "import matplotlib.pyplot as plt\n",
    "import numpy as np"
   ]
  },
  {
   "cell_type": "markdown",
   "metadata": {},
   "source": [
    "<div id=\"ex1\"></div>\n",
    "\n",
    "### EXERCÍCIO 1\n",
    "\n",
    "Sejam $X \\sim Exp(\\mu=10)$ e $Y \\sim Exp(\\mu=20)$, duas variáveis aleatórias independentes.  \n",
    "\n",
    "Vamos definir a variável aleatória $Z$ como $Z = 2X + 3Y$\n",
    "\n",
    "Responda:\n",
    "\n",
    "<div id=\"ex1a\"></div>\n",
    "\n",
    "**a.** Qual deve ser $E(Z)$ e $Var(Z)$? Responda usando a teoria.\n",
    "\n",
    "<a href=\"#resposta1a\">Respostas</a>"
   ]
  },
  {
   "cell_type": "code",
   "execution_count": 2,
   "metadata": {},
   "outputs": [
    {
     "data": {
      "text/plain": [
       "4000"
      ]
     },
     "execution_count": 2,
     "metadata": {},
     "output_type": "execute_result"
    }
   ],
   "source": [
    "# ESCREVA SUA RESPOSTA AQUI\n",
    "E_Z = 20+60\n",
    "Var_Z = (20**2) + (60**2)\n",
    "Var_Z"
   ]
  },
  {
   "cell_type": "code",
   "execution_count": 5,
   "metadata": {},
   "outputs": [
    {
     "data": {
      "text/plain": [
       "80.88051747503658"
      ]
     },
     "execution_count": 5,
     "metadata": {},
     "output_type": "execute_result"
    }
   ],
   "source": [
    "# Ninja\n",
    "mu1 = 10\n",
    "mu2 = 20\n",
    "n = 10000\n",
    "x_All = stats.expon.rvs(scale = mu1, size = n)\n",
    "y_All = stats.expon.rvs(scale = mu2, size = n)\n",
    "z_All = 2*x_All + 3*y_All\n",
    "z_All.mean()"
   ]
  },
  {
   "cell_type": "code",
   "execution_count": 6,
   "metadata": {},
   "outputs": [
    {
     "data": {
      "text/plain": [
       "4185.084995549441"
      ]
     },
     "execution_count": 6,
     "metadata": {},
     "output_type": "execute_result"
    }
   ],
   "source": [
    "z_All.var()"
   ]
  },
  {
   "cell_type": "code",
   "execution_count": null,
   "metadata": {},
   "outputs": [],
   "source": [
    "# para a exponencial, a media e o desvio padrão são os mesmos\n",
    "\n",
    "x_media = 10\n",
    "x_dp = 10 \n",
    "\n",
    "y_media = 20\n",
    "y_dp = 20\n"
   ]
  },
  {
   "cell_type": "markdown",
   "metadata": {},
   "source": [
    "<div id=\"ex1b\"></div>\n",
    "\n",
    "**b.** Verifique, através de simulação, o resultado anterior.  Não se esqueça de apresentar os valores de $E(Z)$ e $Var(Z)$ obtidos a partir dos dados e de plotar o histograma.\n",
    "\n",
    "<a href=\"#resposta1b\">Respostas</a>"
   ]
  },
  {
   "cell_type": "code",
   "execution_count": 8,
   "metadata": {},
   "outputs": [
    {
     "data": {
      "text/plain": [
       "[]"
      ]
     },
     "execution_count": 8,
     "metadata": {},
     "output_type": "execute_result"
    },
    {
     "data": {
      "image/png": "[encoded data removed]",
      "text/plain": [
       "<Figure size 432x288 with 1 Axes>"
      ]
     },
     "metadata": {
      "needs_background": "light"
     },
     "output_type": "display_data"
    }
   ],
   "source": [
    "# ESCREVA O CÓDIGO AQUI\n",
    "plt.hist(z_All, bins = 50, density=True)\n",
    "plt.ylabel('densidade')\n",
    "plt.xlabel('valores de x')\n",
    "plt.title('Função densidade de probabilidade')\n",
    "plt.plot()"
   ]
  },
  {
   "cell_type": "markdown",
   "metadata": {},
   "source": [
    "___\n",
    "<div id=\"ex2\"></div>\n",
    "\n",
    "### EXERCÍCIO 2\n",
    "\n",
    "Dadas duas variáveis aleatórias normais $X$ e $Y$, não correlacionadas entre si, com médias de 100 e 150, e desvios padrão de 30 e 40, respectivamente:\n",
    "\n",
    "<div id=\"ex2a\"></div>\n",
    "\n",
    "**a** Quais seriam $E(X + Y)$ e $V(X + Y)$ conforme a teoria? Que formato teria a distribuição?\n",
    "\n",
    "<a href=\"#resposta2a\">Respostas</a>"
   ]
  },
  {
   "cell_type": "code",
   "execution_count": 44,
   "metadata": {},
   "outputs": [
    {
     "data": {
      "text/plain": [
       "'Esperança é 250 e variancia é 2500'"
      ]
     },
     "execution_count": 44,
     "metadata": {},
     "output_type": "execute_result"
    }
   ],
   "source": [
    "# ESCREVA SUA RESPOSTA AQUI\n",
    "mu_x = 100\n",
    "mu_y = 150\n",
    "sigma_x = 30\n",
    "sigma_y = 40\n",
    "mu_z = mu_x + mu_y\n",
    "var_z = sigma_x**2 + sigma_y**2\n",
    "f'Esperança é {mu_z} e variancia é {var_z}'"
   ]
  },
  {
   "cell_type": "markdown",
   "metadata": {},
   "source": [
    "<div id=\"ex2b\"></div>\n",
    "\n",
    "**b** Simule este resultado.\n",
    "\n",
    "<a href=\"#resposta2b\">Respostas</a>"
   ]
  },
  {
   "cell_type": "code",
   "execution_count": 45,
   "metadata": {},
   "outputs": [
    {
     "data": {
      "text/html": [
       "<div>\n",
       "<style scoped>\n",
       "    .dataframe tbody tr th:only-of-type {\n",
       "        vertical-align: middle;\n",
       "    }\n",
       "\n",
       "    .dataframe tbody tr th {\n",
       "        vertical-align: top;\n",
       "    }\n",
       "\n",
       "    .dataframe thead th {\n",
       "        text-align: right;\n",
       "    }\n",
       "</style>\n",
       "<table border=\"1\" class=\"dataframe\">\n",
       "  <thead>\n",
       "    <tr style=\"text-align: right;\">\n",
       "      <th></th>\n",
       "      <th>0</th>\n",
       "    </tr>\n",
       "  </thead>\n",
       "  <tbody>\n",
       "    <tr>\n",
       "      <th>count</th>\n",
       "      <td>500000.000000</td>\n",
       "    </tr>\n",
       "    <tr>\n",
       "      <th>mean</th>\n",
       "      <td>250.042007</td>\n",
       "    </tr>\n",
       "    <tr>\n",
       "      <th>std</th>\n",
       "      <td>49.908106</td>\n",
       "    </tr>\n",
       "    <tr>\n",
       "      <th>min</th>\n",
       "      <td>19.726083</td>\n",
       "    </tr>\n",
       "    <tr>\n",
       "      <th>25%</th>\n",
       "      <td>216.425497</td>\n",
       "    </tr>\n",
       "    <tr>\n",
       "      <th>50%</th>\n",
       "      <td>250.047717</td>\n",
       "    </tr>\n",
       "    <tr>\n",
       "      <th>75%</th>\n",
       "      <td>283.740096</td>\n",
       "    </tr>\n",
       "    <tr>\n",
       "      <th>max</th>\n",
       "      <td>498.961406</td>\n",
       "    </tr>\n",
       "  </tbody>\n",
       "</table>\n",
       "</div>"
      ],
      "text/plain": [
       "                   0\n",
       "count  500000.000000\n",
       "mean      250.042007\n",
       "std        49.908106\n",
       "min        19.726083\n",
       "25%       216.425497\n",
       "50%       250.047717\n",
       "75%       283.740096\n",
       "max       498.961406"
      ]
     },
     "execution_count": 45,
     "metadata": {},
     "output_type": "execute_result"
    }
   ],
   "source": [
    "# ESCREVA SUA RESPOSTA AQUI\n",
    "n = 500000\n",
    "x_aleat = stats.norm.rvs(loc = mu_x, scale = sigma_x, size = n)\n",
    "y_aleat = stats.norm.rvs(loc = mu_y, scale = sigma_y, size = n)\n",
    "\n",
    "e_aleat = x_aleat + y_aleat\n",
    "\n",
    "a = pd.Series(e_aleat).to_frame()\n",
    "# display(pd.Series(e_aleat).describe().to_frame())\n",
    "a.describe()"
   ]
  },
  {
   "cell_type": "code",
   "execution_count": 46,
   "metadata": {},
   "outputs": [
    {
     "data": {
      "text/plain": [
       "array([[<AxesSubplot:title={'center':'0'}>]], dtype=object)"
      ]
     },
     "execution_count": 46,
     "metadata": {},
     "output_type": "execute_result"
    },
    {
     "data": {
      "image/png": "[encoded data removed]",
      "text/plain": [
       "<Figure size 432x288 with 1 Axes>"
      ]
     },
     "metadata": {
      "needs_background": "light"
     },
     "output_type": "display_data"
    }
   ],
   "source": [
    "a.hist(density=True, alpha=0.75, bins = 100)"
   ]
  },
  {
   "cell_type": "markdown",
   "metadata": {},
   "source": [
    "<div id=\"ex3\"></div>\n",
    "\n",
    "### EXERCÍCIO 3\n",
    "\n",
    "Os arquivos `var1.csv` e `var2.csv` contém amostras **correlacionadas** de duas variáveis aleatórias **não independentes** $X$ e $Y$.\n",
    "\n",
    "Dados:\n",
    "\n",
    "$\\mu_X = 20$\n",
    "\n",
    "$\\mu_Y = 25$\n",
    "\n",
    "$\\sigma_X^2 = 25$\n",
    "\n",
    "$\\sigma_Y^2 = 16$\n",
    "\n",
    "$Cov(X,Y) = 10$\n",
    "\n",
    "\n",
    "Faça:\n",
    "* Calcule a média e o desvio padrão de Z = X + Y usando a teoria\n",
    "* verifique nos dados se o resultado é coerente\n",
    "\n",
    "<a href=\"#resposta3\">Respostas</a>"
   ]
  },
  {
   "cell_type": "code",
   "execution_count": 47,
   "metadata": {},
   "outputs": [
    {
     "data": {
      "text/plain": [
       "'A média é 45 e a variancia é de 61'"
      ]
     },
     "execution_count": 47,
     "metadata": {},
     "output_type": "execute_result"
    }
   ],
   "source": [
    "# ESCREVA SUA RESPOSTA AQUI\n",
    "x_mu = 20\n",
    "y_mu = 25\n",
    "\n",
    "x_var = 25\n",
    "x_sigma = 5\n",
    "\n",
    "y_var = 16\n",
    "y_sigma = 4\n",
    "cov_xy = 10\n",
    "\n",
    "z_mu = x_mu+y_mu\n",
    "z_var = x_var + y_var + 2*cov_xy\n",
    "f'A média é {z_mu} e a variancia é de {z_var}'"
   ]
  },
  {
   "cell_type": "markdown",
   "metadata": {},
   "source": [
    "___\n",
    "<div id=\"ex4\"></div>\n",
    "\n",
    "## Exercício 4\n",
    "\n",
    "Um processo industrial pode ser executado em duas etapas independentes. O tempo gasto em cada etapa segue uma distribuição com média de 5 horas e desvio-padrão de 10 horas. \n",
    "Um engenheiro resolveu modificar o processo de produção fazendo com que seja executado numa única fase, cujo tempo de execução é o dobro da primeira etapa do processo atual.\n",
    "Vale a pena adotar o processo proposto pelo engenheiro?\n",
    "\n",
    "<a href=\"#resposta4\">Respostas</a>"
   ]
  },
  {
   "cell_type": "code",
   "execution_count": 50,
   "metadata": {},
   "outputs": [
    {
     "data": {
      "text/plain": [
       "200"
      ]
     },
     "execution_count": 50,
     "metadata": {},
     "output_type": "execute_result"
    }
   ],
   "source": [
    "# ESCREVA SUA RESPOSTA AQUI\n",
    "mu = 5\n",
    "sigma = 10\n",
    "# Atual - tarefas independetes\n",
    "e_atual = 2*mu\n",
    "dp = (sigma**2+sigma**2)**0.5\n",
    "\n",
    "# Novo - tarefas dependetes\n",
    "e_novo = 2*mu\n",
    "cov = 0 #pq são independentes --> já sua correlação seria 1\n",
    "var = sigma**2 +sigma**2 \n",
    "var"
   ]
  },
  {
   "cell_type": "markdown",
   "metadata": {},
   "source": [
    "___\n",
    "\n",
    "<div id=\"ex5\"></div>\n",
    "\n",
    "### EXERCÍCIO 5 \n",
    "\n",
    "Uma pessoa irá comprar uma camisa e uma calça. Os dois produtos serão adquiridos numa mesma loja. O preço da camisa segue uma distribuição aproximadamente normal de média 45,00 reais e desvio-padrão 3,00 reais. O preço da calça segue uma distribuição aproximadamente normal de média 60,00 reais e desvio-padrão 5,00 reais. Sabe-se ainda que a correlação entre os preços da camisa e da calça é da ordem de 0,25 e que o gasto com a compra de uma camisa e uma calça seja modelado por uma distribuição normal.\n",
    "\n",
    "a) Uma pessoa possui apenas 95,00 reais para comprar a camisa e a calça, indo a um único estabelecimento escolhido ao acaso, qual é a probabilidade de conseguir comprar os dois produtos? Considere que o gasto total com a compra de uma calça e uma camisa também segue uma distribuição aproximadamente normal.\n",
    "\n",
    "b) Indo a um único estabelecimento, qual a probabilidade de se pagar mais caro na camisa do que na calça?\n",
    "\n",
    "<a href=\"#resposta5\">Respostas</a>"
   ]
  },
  {
   "cell_type": "code",
   "execution_count": null,
   "metadata": {},
   "outputs": [],
   "source": [
    "# ESCREVA SUA RESPOSTA AQUI"
   ]
  },
  {
   "cell_type": "markdown",
   "metadata": {},
   "source": [
    "___\n",
    "\n",
    "<div id=\"ex6\"></div>\n",
    "\n",
    "### EXERCÍCIO 6\n",
    "\n",
    "O preço de compra, em reais, de cada unidade da matéria-prima M1 não é fixo (único), pois pode variar de região para região brasileira. Neste caso, assuma que o preço de M1 pode ser modelado por uma distribuição normal com média 15 reais e desvio padrão 3 reais. \n",
    "\n",
    "a) Qual é o menor valor cobrado pela matéria-prima M1 referente aos 39% dos locais mais careiros?\n",
    "\n",
    "b) Um determinado produto, que será lançado no mercado, é composto por três unidades de mesmo valor da matéria-prima M1. Ainda, na fabricação desse produto, há um custo fixo de 30 reais por produto produzido. O valor comercializado de cada produto será definido para que se tenha um lucro de 35% sobre o valor da etiqueta. Encontre a esperança, variância e distribuição do valor comercializado de cada produto.\n"
   ]
  },
  {
   "cell_type": "code",
   "execution_count": null,
   "metadata": {},
   "outputs": [],
   "source": [
    "# ESCREVA SUA RESPOSTA AQUI"
   ]
  },
  {
   "cell_type": "markdown",
   "metadata": {},
   "source": [
    "<div id=\"respostas\"></div>\n",
    "\n",
    "---\n",
    "# Respostas\n",
    "\n",
    "<a href=\"#indice\">Voltar para o índice</a>\n",
    "\n",
    "<div id=\"resposta1a\"></div>\n",
    "\n",
    "### Exercício 1a\n",
    "\n",
    "<a href=\"#ex1a\">Voltar para o Exercício 1a</a>\n",
    "\n",
    "$E(Z)=80$ e $Var(Z)=4000$\n",
    "\n",
    "<div id=\"resposta1b\"></div>\n",
    "\n",
    "### Exercício 1b\n",
    "\n",
    "<a href=\"#ex1b\">Voltar para o Exercício 1b</a>\n",
    "\n",
    "É esperado um histograma semelhante a esse:\n",
    "\n",
    "![](./ex1b.png)\n",
    "\n",
    "<div id=\"resposta2a\"></div>\n",
    "\n",
    "### Exercício 2a\n",
    "\n",
    "<a href=\"#ex2a\">Voltar para o Exercício 2a</a>\n",
    "\n",
    "$E(X+Y)=250$, $Var(X+Y)=2500$. Para o formato, considerar a \"Propriedade reprodutiva da normal\".\n",
    "\n",
    "<div id=\"resposta2b\"></div>\n",
    "\n",
    "### Exercício 2b\n",
    "\n",
    "<a href=\"#ex2b\">Voltar para o Exercício 2b</a>\n",
    "\n",
    "É esperado um histograma semelhante a esse:\n",
    "\n",
    "![](./ex2b.png)\n",
    "\n",
    "<div id=\"resposta3\"></div>\n",
    "\n",
    "### Exercício 3\n",
    "\n",
    "<a href=\"#ex3\">Voltar para o Exercício 3</a>\n",
    "\n",
    "$E(Z) = 45$\n",
    "\n",
    "$V(Z) = 61$\n",
    "\n",
    "#### A partir dos dados\n",
    "\n",
    "Médias: m(X) = 20.121265998974028, m(Y) = 24.93049213973364, m(Z) = 45.051758138707584\n",
    "\n",
    "Variâncias: v(X) = 22.19198031318174, v(Y) = 16.902487155078422, v(Z) = 58.97928363410342\n",
    "\n",
    "Covariância: cov(X,Y) = 9.94240808292163\n",
    "\n",
    "<div id=\"resposta4\"></div>\n",
    "\n",
    "### Exercício 4\n",
    "\n",
    "<a href=\"#ex4\">Voltar para o Exercício 4</a>\n",
    "\n",
    "Atual: E(T) = 10 e DP(T) = 14.142135623730951\n",
    "\n",
    "Novo: E(T) = 10 e DP(T) = 20\n",
    "\n",
    "<div id=\"resposta5\"></div>\n",
    "\n",
    "### Exercício 5\n",
    "\n",
    "<a href=\"#ex5\">Voltar para o Exercício 5</a>\n",
    "\n",
    "a) 0.0602951032363964 (dica: $Cov(X,Y)=DP(X)\\times DP(Y)\\times Corr(X,Y)$)\n",
    "\n",
    "b) 0.001784963611592305 (dica: $X-Y$ inverte o sinal da correlação de $X$ e $Y$)\n",
    "\n",
    "<div id=\"resposta6\"></div>\n",
    "\n",
    "### Exercício 6\n",
    "\n",
    "<a href=\"#ex6\">Voltar para o Exercício 6</a>\n",
    "\n",
    "a) 15.837957103342362\n",
    "\n",
    "b) Esperança:  115.38461538461539, Variância:  191.7159763313609"
   ]
  }
 ],
 "metadata": {
  "kernelspec": {
   "display_name": "Python 3 (ipykernel)",
   "language": "python",
   "name": "python3"
  },
  "language_info": {
   "codemirror_mode": {
    "name": "ipython",
    "version": 3
   },
   "file_extension": ".py",
   "mimetype": "text/x-python",
   "name": "python",
   "nbconvert_exporter": "python",
   "pygments_lexer": "ipython3",
   "version": "3.9.7"
  }
 },
 "nbformat": 4,
 "nbformat_minor": 4
}
