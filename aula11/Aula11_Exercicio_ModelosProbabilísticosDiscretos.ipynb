{
 "cells": [
  {
   "cell_type": "markdown",
   "metadata": {},
   "source": [
    "___\n",
    "# Exercício: Modelos probabilísticos discretos\n",
    "___\n",
    "\n",
    "## Aula 11"
   ]
  },
  {
   "cell_type": "markdown",
   "metadata": {},
   "source": [
    "<div id=\"indice\"></div>\n",
    "\n",
    "## Índice\n",
    "\n",
    "- [Microempresas](#microempresas)\n",
    "    - [Exercício 1](#ex1) **- APS6 disponível no Blackboard**\n",
    "    - [Exercício 2](#ex2) **- APS6 disponível no Blackboard**\n",
    "    - [Exercício 3](#ex3) **- APS6 disponível no Blackboard**\n",
    "    - [Exercício 4](#ex4) **- APS6 disponível no Blackboard**"
   ]
  },
  {
   "cell_type": "markdown",
   "metadata": {},
   "source": [
    "___\n",
    "\n",
    "<div id=\"microempresas\"></div>\n",
    "\n",
    "# <font color='blue'>Microempresas</font> \n",
    "\n",
    "A mortalidade de microempresas no primeiro ano de funcionamento é da ordem de 0,55. Deseja-se avaliar as causas da mortalidade. Para os exercícios a seguir, considere uma amostra de 10 empresas."
   ]
  },
  {
   "cell_type": "markdown",
   "metadata": {},
   "source": [
    "<div id=\"ex1\"></div>\n",
    "\n",
    "### EXERCÍCIO 1\n",
    "\n",
    "Qual é a probabilidade de exatamente 5 empresas terem falido ao final do primeiro ano?"
   ]
  },
  {
   "cell_type": "code",
   "execution_count": 2,
   "metadata": {},
   "outputs": [],
   "source": [
    "%matplotlib inline\n",
    "import pandas as pd\n",
    "import matplotlib.pyplot as plt\n",
    "import numpy as np\n",
    "\n",
    "\n",
    "from scipy import stats #importa apenas as funções de estatísticas da biblioteca SciPy."
   ]
  },
  {
   "cell_type": "code",
   "execution_count": 4,
   "metadata": {},
   "outputs": [
    {
     "data": {
      "text/plain": [
       "0.23403270759257822"
      ]
     },
     "execution_count": 4,
     "metadata": {},
     "output_type": "execute_result"
    }
   ],
   "source": [
    "# ESCREVA SUA RESPOSTA AQUI\n",
    "stats.binom.pmf(5,10,0.55)"
   ]
  },
  {
   "cell_type": "markdown",
   "metadata": {},
   "source": [
    "<div id=\"ex2\"></div>\n",
    "\n",
    "### EXERCÍCIO 2\n",
    "\n",
    "Qual é a probabilidade de pelo menos 3 empresas virem a falir no primeiro ano?"
   ]
  },
  {
   "cell_type": "code",
   "execution_count": 8,
   "metadata": {},
   "outputs": [
    {
     "data": {
      "text/plain": [
       "0.9771104105620118"
      ]
     },
     "execution_count": 8,
     "metadata": {},
     "output_type": "execute_result"
    }
   ],
   "source": [
    "# ESCREVA SUA RESPOSTA AQUI\n",
    "1 - stats.binom.pmf(2,10,0.55)"
   ]
  },
  {
   "cell_type": "markdown",
   "metadata": {},
   "source": [
    "<div id=\"ex3\"></div>\n",
    "\n",
    "### EXERCÍCIO 3\n",
    "\n",
    "Sabe-se que pelo menos 3 empresas faliram no primeiro ano. Qual é a probabilidade de no máximo 5 terem falido?"
   ]
  },
  {
   "cell_type": "code",
   "execution_count": 9,
   "metadata": {},
   "outputs": [
    {
     "data": {
      "text/plain": [
       "0.48138971888756615"
      ]
     },
     "execution_count": 9,
     "metadata": {},
     "output_type": "execute_result"
    }
   ],
   "source": [
    "# ESCREVA SUA RESPOSTA AQUI\n",
    "\n",
    "# P(Y<=y) = stats.binom.cdf(y,n,p) --> probabilidade de ser no máximo y(inclui P(y=0))\n",
    "# Para achar um valor por ex maior que 20 e menor que 40 faz o cdf maior - cdf menor\n",
    "# sf(k, n, p, loc=0) --. Survival function (also defined as 1 - cdf, but sf is sometimes more accurate).\n",
    "# sf é o contrário de cdf, ent seria P(Y>=y)\n",
    "\n",
    "n = 10\n",
    "p = 0.55\n",
    "((1 - stats.binom.cdf(2,n,p)) - (1 - stats.binom.cdf(5,n,p))) / (1 - stats.binom.cdf(2,n,p))"
   ]
  },
  {
   "cell_type": "code",
   "execution_count": 16,
   "metadata": {},
   "outputs": [
    {
     "data": {
      "text/plain": [
       "0.40240964607519564"
      ]
     },
     "execution_count": 16,
     "metadata": {},
     "output_type": "execute_result"
    }
   ],
   "source": [
    "stats.binom.sf(3,n,p)-stats.binom.cdf(5,n,p)"
   ]
  },
  {
   "cell_type": "markdown",
   "metadata": {},
   "source": [
    "<div id=\"ex4\"></div>\n",
    "\n",
    "### EXERCÍCIO 4\n",
    "\n",
    "Qual o número esperado de empresas que irão à falência no primeiro ano na amostra? E o desvio padrão?"
   ]
  },
  {
   "cell_type": "code",
   "execution_count": 17,
   "metadata": {},
   "outputs": [
    {
     "data": {
      "text/plain": [
       "5.5"
      ]
     },
     "execution_count": 17,
     "metadata": {},
     "output_type": "execute_result"
    }
   ],
   "source": [
    "# ESCREVA SUA RESPOSTA AQUI\n",
    "# E_Y = np\n",
    "num_esperado = n*p\n",
    "num_esperado\n",
    "\n",
    "# ou\n",
    "# ex = stats.binom.mean(n, p)"
   ]
  },
  {
   "cell_type": "code",
   "execution_count": 21,
   "metadata": {},
   "outputs": [
    {
     "data": {
      "text/plain": [
       "2.4749999999999996"
      ]
     },
     "execution_count": 21,
     "metadata": {},
     "output_type": "execute_result"
    }
   ],
   "source": [
    "# variancia : Var(X) = p(1-p)\n",
    "var =n*p*(1-p)\n",
    "var"
   ]
  },
  {
   "cell_type": "code",
   "execution_count": 22,
   "metadata": {},
   "outputs": [
    {
     "data": {
      "text/plain": [
       "1.5732132722552272"
      ]
     },
     "execution_count": 22,
     "metadata": {},
     "output_type": "execute_result"
    }
   ],
   "source": [
    "# desvio padrao é a raiz da variancia\n",
    "dv = var**0.5\n",
    "dv\n",
    "\n",
    "# ou\n",
    "# dpx = stats.binom.std(n, p)\n",
    "# dpx"
   ]
  },
  {
   "cell_type": "code",
   "execution_count": null,
   "metadata": {},
   "outputs": [],
   "source": []
  }
 ],
 "metadata": {
  "anaconda-cloud": {},
  "kernelspec": {
   "display_name": "Python 3 (ipykernel)",
   "language": "python",
   "name": "python3"
  },
  "language_info": {
   "codemirror_mode": {
    "name": "ipython",
    "version": 3
   },
   "file_extension": ".py",
   "mimetype": "text/x-python",
   "name": "python",
   "nbconvert_exporter": "python",
   "pygments_lexer": "ipython3",
   "version": "3.9.7"
  }
 },
 "nbformat": 4,
 "nbformat_minor": 1
}
