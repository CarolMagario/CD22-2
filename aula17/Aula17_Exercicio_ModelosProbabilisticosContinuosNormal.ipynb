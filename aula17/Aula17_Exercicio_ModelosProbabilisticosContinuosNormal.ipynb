{
 "cells": [
  {
   "cell_type": "markdown",
   "metadata": {},
   "source": [
    "___\n",
    "# Exercício: Modelos probabilísticos contínuos\n",
    "___\n",
    "\n",
    "## Aula 17\n"
   ]
  },
  {
   "cell_type": "markdown",
   "metadata": {},
   "source": [
    "___\n",
    "<div id=\"indice\"></div>\n",
    "\n",
    "## Índice\n",
    "\n",
    "  - [Exercício 1](#ex1)\n",
    "  - [Exercício 2](#ex2)\n",
    "  - [Exercício 3](#ex3)\n",
    "  - [Exercício 4](#ex4)\n",
    "  - [Exercício 5](#ex5) **- APS7 disponível no Blackboard**\n",
    "___"
   ]
  },
  {
   "cell_type": "code",
   "execution_count": 3,
   "metadata": {},
   "outputs": [],
   "source": [
    "from scipy import stats #importa apenas as funções de estatísticas da biblioteca SciPy.\n",
    "import numpy as np\n",
    "import math\n",
    "import pandas as pd\n",
    "\n",
    "from scipy import stats\n",
    "\n",
    "import matplotlib.pyplot as plt\n",
    "%matplotlib inline"
   ]
  },
  {
   "cell_type": "markdown",
   "metadata": {},
   "source": [
    "<div id=\"ex1\"></div>\n",
    "\n",
    "### EXERCÍCIO 1\n",
    "\n",
    "Para X ~ N(90, 100), calcular:\n",
    "\n",
    "a) $P(X \\leq 115)$\n",
    "\n",
    "b) $P(X \\geq 80 | X < 100)$\n",
    "\n",
    "c) O número $c$ tal que $P(X < c) = 0,975$\n",
    "\n",
    "d) O número $d$ tal que $P(X > d) = 0,95$\n",
    "\n",
    "e) O valor de $e$ tal que $P(90 - e \\leq X \\leq 90 + e) = 0,99$\n",
    "\n",
    "*Respostas esperadas: (a)0.9937903346742238  (b)0.8114265826549397  (c)109.59963984540053 (d)73.55146373048528 (e)25.758293035489004*\n"
   ]
  },
  {
   "cell_type": "code",
   "execution_count": 4,
   "metadata": {},
   "outputs": [],
   "source": [
    "# ESCREVA SEU CÓDIGO AQUI"
   ]
  },
  {
   "cell_type": "code",
   "execution_count": 5,
   "metadata": {},
   "outputs": [
    {
     "data": {
      "text/plain": [
       "0.9937903346742238"
      ]
     },
     "execution_count": 5,
     "metadata": {},
     "output_type": "execute_result"
    }
   ],
   "source": [
    "x = 115\n",
    "mu = 90\n",
    "sigma = 10 #desvio padrão --> raiz da variancia\n",
    "a = stats.norm.cdf(x, loc=mu, scale=sigma)\n",
    "a"
   ]
  },
  {
   "cell_type": "code",
   "execution_count": 6,
   "metadata": {},
   "outputs": [
    {
     "data": {
      "text/plain": [
       "0.8114265826549397"
      ]
     },
     "execution_count": 6,
     "metadata": {},
     "output_type": "execute_result"
    }
   ],
   "source": [
    "#b) P(X >= 80 | X < 100)\n",
    "P_menor_100 = stats.norm.cdf(100, loc=mu, scale=sigma)\n",
    "P_menor_80 = stats.norm.cdf(80, loc=mu, scale=sigma)\n",
    "P_entre_80_100 = P_menor_100 - P_menor_80 #intersecção\n",
    "P_entre_80_100_dado_menor_100 = P_entre_80_100/P_menor_100\n",
    "P_entre_80_100_dado_menor_100"
   ]
  },
  {
   "cell_type": "code",
   "execution_count": 7,
   "metadata": {},
   "outputs": [
    {
     "data": {
      "text/plain": [
       "109.59963984540053"
      ]
     },
     "execution_count": 7,
     "metadata": {},
     "output_type": "execute_result"
    }
   ],
   "source": [
    "# c) P(X<c) = 0.975\n",
    "stats.norm.ppf(0.975, loc=mu, scale=sigma)"
   ]
  },
  {
   "cell_type": "code",
   "execution_count": 8,
   "metadata": {},
   "outputs": [
    {
     "data": {
      "text/plain": [
       "73.55146373048528"
      ]
     },
     "execution_count": 8,
     "metadata": {},
     "output_type": "execute_result"
    }
   ],
   "source": [
    "#d) P(X>d) = 0.95\n",
    "stats.norm.ppf(1-0.95, loc=mu, scale=sigma)"
   ]
  },
  {
   "cell_type": "code",
   "execution_count": 9,
   "metadata": {},
   "outputs": [
    {
     "data": {
      "text/plain": [
       "64.241706964511"
      ]
     },
     "execution_count": 9,
     "metadata": {},
     "output_type": "execute_result"
    }
   ],
   "source": [
    "# e) P(90-e<=X<=90+e)=0.99\n",
    "c1 = stats.norm.ppf(0.005, loc=mu, scale=sigma)\n",
    "c1"
   ]
  },
  {
   "cell_type": "code",
   "execution_count": 10,
   "metadata": {},
   "outputs": [
    {
     "data": {
      "text/plain": [
       "25.758293035489004"
      ]
     },
     "execution_count": 10,
     "metadata": {},
     "output_type": "execute_result"
    }
   ],
   "source": [
    "e = mu - c1\n",
    "e"
   ]
  },
  {
   "cell_type": "markdown",
   "metadata": {},
   "source": [
    "<div id=\"ex2\"></div>\n",
    "\n",
    "### EXERCÍCIO 2\n",
    "\n",
    "As notas no quiz final de Ciência dos Dados distribuem-se segundo uma variável aleatória normal com média 6,5 e desvio padrão 1,6. O professor deseja dividir a classe em 3 categorias, da seguinte forma: os 30% que tiveram as maiores notas serão aprovados, os 50% com notas intermediárias ficarão de exame e os 20% que tiveram as menores notas serão reprovados. \n",
    "\n",
    "a) Quais os limites de nota entre cada uma das categorias?\n",
    "\n",
    "b) Caso a nota para aprovação (sem ir para exame) fosse igual a 7,0 e uma turma tivesse 50 alunos, quantos desses seriam aprovados sem ir para o exame? \n",
    "\n",
    "*Respostas esperadas: (a)5.153406026283337 e 7.339040820332865    (b)19*"
   ]
  },
  {
   "cell_type": "code",
   "execution_count": 11,
   "metadata": {},
   "outputs": [],
   "source": [
    "# ESCREVA SEU CÓDIGO AQUI"
   ]
  },
  {
   "cell_type": "code",
   "execution_count": 21,
   "metadata": {},
   "outputs": [],
   "source": [
    "mu = 6.5\n",
    "sigma = 1.6"
   ]
  },
  {
   "cell_type": "code",
   "execution_count": 22,
   "metadata": {},
   "outputs": [
    {
     "data": {
      "text/plain": [
       "5.153406026283337"
      ]
     },
     "execution_count": 22,
     "metadata": {},
     "output_type": "execute_result"
    }
   ],
   "source": [
    "p = 0.2\n",
    "stats.norm.ppf(p, loc=mu, scale=sigma)"
   ]
  },
  {
   "cell_type": "code",
   "execution_count": 23,
   "metadata": {},
   "outputs": [
    {
     "data": {
      "text/plain": [
       "7.339040820332865"
      ]
     },
     "execution_count": 23,
     "metadata": {},
     "output_type": "execute_result"
    }
   ],
   "source": [
    "p = 0.7\n",
    "stats.norm.ppf(p, loc=mu, scale=sigma)"
   ]
  },
  {
   "cell_type": "code",
   "execution_count": 26,
   "metadata": {},
   "outputs": [
    {
     "data": {
      "text/plain": [
       "19"
      ]
     },
     "execution_count": 26,
     "metadata": {},
     "output_type": "execute_result"
    }
   ],
   "source": [
    "a =1- stats.norm.cdf(7, loc=mu, scale=sigma) #probabilidade de ser aprovado\n",
    "round(a*50) #probabilidade sobre 50"
   ]
  },
  {
   "cell_type": "markdown",
   "metadata": {},
   "source": [
    "<div id=\"ex3\"></div>\n",
    "\n",
    "### EXERCÍCIO 3\n",
    "\n",
    "Um determinado calçado é vendido em lojas populares e em lojas sofisticadas. De todas as lojas, 70%  são populares e 30%  são sofisticadas. Nas lojas populares seu preço segue uma distribuição normal com média 80 e desvio-padrão 12. Já em lojas sofisticadas, o preço também segue uma distribuição normal de média 160 e desvio-padrão 30. \n",
    "\n",
    "a) Determine maior preço considerando os 25% menores valores na distribuição de preços de uma loja popular.\n",
    "\n",
    "b) Gastou-se mais de $100,00 para comprar o calçado. Qual é a probabilidade da compra ter sido feita numa loja popular?\n",
    "\n",
    "*Respostas esperadas: (a)71.90612299764702    (b)0.10241995600307374*"
   ]
  },
  {
   "cell_type": "code",
   "execution_count": null,
   "metadata": {},
   "outputs": [],
   "source": [
    "# ESCREVA SEU CÓDIGO AQUI"
   ]
  },
  {
   "cell_type": "code",
   "execution_count": 38,
   "metadata": {},
   "outputs": [],
   "source": [
    "# Populares\n",
    "mup = 80\n",
    "sigmap = 12\n",
    "# Sofisticado\n",
    "muf = 160\n",
    "sigmaf = 30"
   ]
  },
  {
   "cell_type": "code",
   "execution_count": 39,
   "metadata": {},
   "outputs": [
    {
     "data": {
      "text/plain": [
       "71.90612299764702"
      ]
     },
     "execution_count": 39,
     "metadata": {},
     "output_type": "execute_result"
    }
   ],
   "source": [
    "p = 0.25\n",
    "stats.norm.ppf(p, loc=mup, scale=sigmap)"
   ]
  },
  {
   "cell_type": "code",
   "execution_count": 45,
   "metadata": {},
   "outputs": [
    {
     "data": {
      "text/plain": [
       "0.04662290447264522"
      ]
     },
     "execution_count": 45,
     "metadata": {},
     "output_type": "execute_result"
    }
   ],
   "source": [
    "# Probabilidade de gastar mais que 100 em lojas populares\n",
    "cem_pop = 1-stats.norm.cdf(100, loc=mup, scale=sigmap)\n",
    "# Probabilidade de gastar mais que 100 em lojas populares\n",
    "cem_sof = 1-stats.norm.cdf(100, loc=muf, scale=sigmaf)\n",
    "cem_pop/(cem_sof+cem_pop)"
   ]
  },
  {
   "cell_type": "markdown",
   "metadata": {},
   "source": [
    "<div id=\"ex4\"></div>\n",
    "\n",
    "### EXERCÍCIO 4\n",
    "\n",
    "Em um processo industrial, o diâmetro de um rolamento é uma parte importante do processo.\n",
    "\n",
    "Sabe-se que a probabilidade de um rolamento ter diâmetro maior do 2,98 cm é de 80%. \n",
    "\n",
    "Sabe-se, também que a probabilidade de que um rolamento tenha diâmetro abaixo de 2,97 cm é de 10%. \n",
    "\n",
    "a) Admitindo que o diâmetro de um rolamento segue uma distribuição normal, determine a média e o desvio-padrão dos diâmetros dos rolamentos que saem da linha de produção.\n",
    "\n",
    "b) Determine a especificação que represente a maior distância da média, para mais ou para menos, contendo 95% dos rolamentos produzidos. \n",
    "\n",
    "*Respostas esperadas: (a) mu=2.9991307844085426 sigma=0.022730871852326348   (b)0.04455169016775473*"
   ]
  },
  {
   "cell_type": "code",
   "execution_count": null,
   "metadata": {},
   "outputs": [],
   "source": [
    "# ESCREVA SEU CÓDIGO AQUI"
   ]
  },
  {
   "cell_type": "code",
   "execution_count": 46,
   "metadata": {},
   "outputs": [
    {
     "data": {
      "text/plain": [
       "2.681"
      ]
     },
     "execution_count": 46,
     "metadata": {},
     "output_type": "execute_result"
    }
   ],
   "source": [
    "mu = 0.8*2.98+0.1*2.97\n",
    "mu"
   ]
  },
  {
   "cell_type": "code",
   "execution_count": null,
   "metadata": {},
   "outputs": [],
   "source": []
  },
  {
   "cell_type": "markdown",
   "metadata": {},
   "source": [
    "___\n",
    "<div id=\"ex5\"></div>\n",
    "\n",
    "### EXERCÍCIO 5 - Modelagem do Tempo para resolver uma prova de MatVar\n",
    "\n",
    "Um grupo de alunos de cada uma das três turmas que cursam Ciência dos Dados estava discutindo com intuito de modelar o tempo, em horas, que um aluno irá levar para fazer uma prova de Matemática da Variação. \n",
    "\n",
    "Após cada grupo de alunos chegar a um consenso, foi escolhido um modelo probabilístico contínuo diferente para cada turma A, B e C. Dessa forma, os três modelos foram escolhidos com intuito de descrever o comportamento da variável X: tempo, em horas, que um aluno irá levar para entregar uma prova de Matemática da Variação. Lembrando que um aluno tem até duas horas para fazê-la.\n",
    "\n",
    "Esses três modelos são dados por:\n",
    "\n",
    "> * **Turma A:** $X_A$ segue o seguinte modelo:\n",
    "    $ f(x) = \\left\\{ \\begin{array}[ll]\\\\\n",
    "                +0.4-0.8x & \\rm{se }\\hspace{2mm} 0<x<0.5 \\\\\n",
    "                -0.4+0.8x & \\rm{se }\\hspace{2mm} 0.5\\leq x\\leq2 \\\\\n",
    "                0 & \\rm{caso}\\hspace{2mm}\\rm{contrário} \n",
    "             \\end{array} \\right.$\n",
    "\n",
    "> * **Turma B:** $X_B\\sim Normal(1; 0.3^2)$, ou seja, $\\mu=1$ e $\\sigma=0.3$.\n",
    "\n",
    "> * **Turma C:** $X_C\\sim Uniforme(0; 2)$, ou seja, $a=0$ e $b=2$.\n",
    "\n",
    "\n"
   ]
  },
  {
   "cell_type": "markdown",
   "metadata": {},
   "source": [
    "Admitindo que os alunos façam suas provas de forma independente uns dos outros, responda:\n",
    "\t\n",
    "a) Estudando o comportamento da função densidade de probabilidade de cada modelo probabilístico, qual você entende ser o mais adequado para descrever o comportamento da variável X? E qual você entende ser o menos adequado? Justifique suas respostas após estudar o comportamento das fdp’s escolhidas por cada turma. *Nota: a fdp da turma A tem que ser construída usando a f(x) dada e, as demais, usando a função `pdf` do `scipy.stats`.\n",
    "\n",
    "b) Qual a probabilidade de um aluno da turma B demorar mais do que 1 hora e meia para entregar a prova de Matemática da Variação? E na da turma C? \n",
    "\n",
    "c)\tAtualmente, 34% dos alunos estão na turma A, 34% na B e 32% na C. Qual a probabilidade de um aluno qualquer (ou seja, um aluno de qualquer uma dessas três turmas) demorar mais do que uma hora e meia para entregar a prova final dessa disciplina?\n",
    "\n",
    "d) Qual o menor tempo de entrega da prova dentre os últimos 20% de alunos que entregam na sala da turma B? E na da turma C? Interprete os resultados.\n"
   ]
  },
  {
   "cell_type": "code",
   "execution_count": null,
   "metadata": {},
   "outputs": [],
   "source": [
    "# ESCREVA SEU CÓDIGO AQUI use describe"
   ]
  },
  {
   "cell_type": "code",
   "execution_count": null,
   "metadata": {},
   "outputs": [],
   "source": [
    "# a\n",
    "# Para a turma A vamos usar a distribuição uniforme \n",
    "A = []\n",
    "X = np.arange(0,2.01,0.001)\n",
    "for x in X:\n",
    "    if 0 < x < 0.5:\n",
    "        A.append(0.4-0.8*x)\n",
    "    elif 0.5 < x < 2 :\n",
    "        A.append(-0.4+0.8*x)\n",
    "    else:\n",
    "        A.append(0)\n",
    "        \n",
    "B = stats.norm.pdf(X, loc = 1, scale=0.3)        \n",
    "C = stats.uniform.pdf(X, loc=0, scale=2)\n",
    "\n",
    "plt.plot(X, A, label = \"A\")\n",
    "plt.plot(X, B, label = \"B\")\n",
    "plt.plot(X, C, label = \"C\")\n",
    "plt.legend()\n",
    "plt.show()"
   ]
  },
  {
   "cell_type": "code",
   "execution_count": null,
   "metadata": {
    "scrolled": true
   },
   "outputs": [],
   "source": [
    "# b\n",
    "Prob_B = stats.norm.cdf(1.5, loc = 1, scale=0.3)\n",
    "Prob_C = stats.uniform.cdf(1.5, loc=0, scale=2)\n",
    "f'Probabilidade de B = {(1-Prob_B).round(3)} e a probabilidade de C = {(1-Prob_C).round(3)}'"
   ]
  },
  {
   "cell_type": "code",
   "execution_count": null,
   "metadata": {},
   "outputs": [],
   "source": [
    "# c\n",
    "A_1_30 = []\n",
    "for x in X:\n",
    "    if 0.5 < x < 2 :\n",
    "        A_1_30.append(-0.4+0.8*x)\n",
    "        \n",
    "Prob_A_90 = stats.uniform.cdf(1.5, loc=0.5, scale=2)\n",
    "\n",
    "f'Probabilidade em A: {(1-Prob_A_90)*0.34}, probabilidade em B: {(1-Prob_B)*0.34} e a probabilidade em C: {(1-Prob_C)*0.32}'        "
   ]
  },
  {
   "cell_type": "code",
   "execution_count": null,
   "metadata": {},
   "outputs": [],
   "source": [
    "# d\n",
    "q = 0.8\n",
    "prob_B = stats.norm.ppf(0.8, loc = 1, scale=0.3)\n",
    "prob_C = stats.uniform.ppf(0.8, loc=0, scale=2)\n",
    "f'Probabilidade de B: {prob_B.round(3)} e probabilidade de C: {prob_C}'"
   ]
  },
  {
   "cell_type": "code",
   "execution_count": null,
   "metadata": {},
   "outputs": [],
   "source": []
  }
 ],
 "metadata": {
  "anaconda-cloud": {},
  "kernelspec": {
   "display_name": "Python 3 (ipykernel)",
   "language": "python",
   "name": "python3"
  },
  "language_info": {
   "codemirror_mode": {
    "name": "ipython",
    "version": 3
   },
   "file_extension": ".py",
   "mimetype": "text/x-python",
   "name": "python",
   "nbconvert_exporter": "python",
   "pygments_lexer": "ipython3",
   "version": "3.9.7"
  }
 },
 "nbformat": 4,
 "nbformat_minor": 1
}
