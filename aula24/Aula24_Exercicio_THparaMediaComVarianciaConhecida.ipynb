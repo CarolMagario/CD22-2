{
 "cells": [
  {
   "cell_type": "markdown",
   "metadata": {},
   "source": [
    "___\n",
    "# Exercício: Teste de hipóteses para média populacional \n",
    "___\n",
    "\n",
    "## Aula 24"
   ]
  },
  {
   "cell_type": "markdown",
   "metadata": {},
   "source": [
    "<div id=\"indice\"></div>\n",
    "\n",
    "## Índice\n",
    "\n",
    "- [Exercício 1](#ex1)\n",
    "- [Exercício 2](#ex2)\n",
    "- [Exercício 3](#ex3)\n",
    "- [Exercício 4](#ex4)\n",
    "- [Respostas](#respostas)\n",
    "___"
   ]
  },
  {
   "cell_type": "code",
   "execution_count": 3,
   "metadata": {},
   "outputs": [],
   "source": [
    "from scipy import stats\n",
    "import numpy as np\n",
    "import pandas as pd\n",
    "import math\n",
    "import matplotlib.pyplot as plt\n",
    "%matplotlib inline"
   ]
  },
  {
   "cell_type": "markdown",
   "metadata": {},
   "source": [
    "<div id=\"ex1\"></div>\n",
    "\n",
    "### EXERCÍCIO 1\n",
    "\n",
    "Um estudo foi desenvolvido para avaliar o salário de empregadas domésticas na cidade de São Paulo. \n",
    "\n",
    "Foram sorteadas e entrevistadas $121$ trabalhadoras. Admita que o desvio padrão dessa variável na cidade é de 0,88 salários mínimos.\n",
    "\n",
    "Responda:\n",
    "\n",
    "**a.** Você conhece a distribuição do estimador $\\overline{X}$? Se não, é possível fazer alguma suposição?\n",
    "\n",
    "**b.** Desconfia-se que a média salarial seja superior a 2 salários mínimos. Baseado nessa informação, formule as hipóteses em termos do problema e em termos do parâmetro.\n",
    "\n",
    "**c.** Para um nível de significância de 2%, construa a RC.\n",
    "\n",
    "\n",
    "**d.** Se a amostra forneceu média de $2.38$ salários mínimos, qual a conclusão deste teste?\n",
    "\n",
    "**e.** Que suposições você fez para resolver os itens anteriores?\n",
    "\n",
    "[Respostas](#respostas)"
   ]
  },
  {
   "cell_type": "code",
   "execution_count": null,
   "metadata": {},
   "outputs": [],
   "source": [
    "# ESCREVA SEU CÓDIGO AQUI"
   ]
  },
  {
   "cell_type": "code",
   "execution_count": 5,
   "metadata": {},
   "outputs": [],
   "source": [
    "sigma = 0.88\n",
    "var = sigma**2\n",
    "n = 121\n",
    "#X barra é o conjunto de todas médias"
   ]
  },
  {
   "cell_type": "code",
   "execution_count": null,
   "metadata": {},
   "outputs": [],
   "source": [
    "#a) Assumindo que 121 é um n suficiente, então o X barra possui distribuição normal com média mu e desvio padrão de 0.88/121**0.5\n",
    "## X_barra ~N(mu, 0.88**2/121) #0.88**2/121 é a variancia"
   ]
  },
  {
   "cell_type": "code",
   "execution_count": null,
   "metadata": {},
   "outputs": [],
   "source": [
    "#b) \n",
    "# Em termos do problema:\n",
    "# H0: a média salarial não é superior a 2 salários mínimos\n",
    "# H1: a média salarial é superior a 2 salários mínimos\n",
    "\n",
    "# Em termos dos parametros:\n",
    "# H0: 𝜇 <= 2\n",
    "# H1 𝜇 < 2"
   ]
  },
  {
   "cell_type": "code",
   "execution_count": 7,
   "metadata": {},
   "outputs": [
    {
     "name": "stdout",
     "output_type": "stream",
     "text": [
      " RC = \\(x_obs | x_obs > 2.164)\n"
     ]
    }
   ],
   "source": [
    "# Região crítica é o critério de quando passa a rejeitar valores que estão acima da média, ou seja, X crítico é o ponto de corte\n",
    "# e a regiao ccrítica é tudo depois dele\n",
    "\n",
    "alpha = 0.02\n",
    "mu_barra = 2 #no teste de hipotese supoe que nada mudou, ent usa a igualdade da hipotese nula\n",
    "n = 121\n",
    "sigma_barra = 0.88/n**0.5\n",
    "x_critico = stats.norm.ppf(1-alpha, loc=mu_barra,scale=sigma_barra)\n",
    "print(f' RC = \\(x_obs | x_obs > {x_critico:.3f})')"
   ]
  },
  {
   "cell_type": "code",
   "execution_count": 8,
   "metadata": {},
   "outputs": [
    {
     "name": "stdout",
     "output_type": "stream",
     "text": [
      "Rejeita H0, a média é superior a dois salários mínimos\n"
     ]
    }
   ],
   "source": [
    "# d)\n",
    "x_obs = 2.38\n",
    "# A direita:\n",
    "if x_obs > x_critico:\n",
    "    print('Rejeita H0, a média é superior a dois salários mínimos')\n",
    "else:\n",
    "    msg = 'Não rejeita H0, não há evidencias suficientes que a média é superior a dois salários mínimos'\n",
    "    print(msg)"
   ]
  },
  {
   "cell_type": "code",
   "execution_count": null,
   "metadata": {},
   "outputs": [],
   "source": [
    "# e) Supomos que um n de 121 é suficientemente grande para aplicar o TLC e então sabemos a distribuição de X barra para fazer\n",
    "# o teste\n"
   ]
  },
  {
   "cell_type": "markdown",
   "metadata": {},
   "source": [
    "___\n",
    "\n",
    "<div id=\"ex2\"></div>\n",
    "\n",
    "### EXERCÍCIO 2\n",
    "\n",
    "A duração de pilhas falsificadas segue uma distribuição normal com média de $15 ut$ e variância $16 ut^2$. Pilhas autênticas têm uma duração média maior e mesmo desvio-padrão.  \n",
    "\n",
    "Um lote de pilhas apreendido será leiloado e para definir seu preço é preciso decidir se são produtos falsificados ou não. \n",
    "O leiloeiro adotou como regra de decisão que se a duração média de uma amostra aleatória de $16$ pilhas for maior que $18 ut$, o lote será considerado autêntico. Critique essa regra. \n",
    "\n",
    "[Respostas](#respostas)"
   ]
  },
  {
   "cell_type": "code",
   "execution_count": null,
   "metadata": {},
   "outputs": [],
   "source": [
    "# ESCREVA SUA RESPOSTA AQUI"
   ]
  },
  {
   "cell_type": "code",
   "execution_count": null,
   "metadata": {},
   "outputs": [],
   "source": [
    "# Pilhas autênticas têm uma duração média maior e mesmo desvio-padrão."
   ]
  },
  {
   "cell_type": "code",
   "execution_count": 9,
   "metadata": {},
   "outputs": [],
   "source": [
    "# Em termos do problema:\n",
    "# H0: a média de duração das pilhas é inferior ou igual a 15\n",
    "# H1: a média de duração das pilhas é imaior que 15\n",
    "\n",
    "# Em termos dos parametros:\n",
    "# H0: 𝜇 <= 15 #lote falso\n",
    "# H1 𝜇 > 15 #lote verdadeiro"
   ]
  },
  {
   "cell_type": "code",
   "execution_count": 16,
   "metadata": {},
   "outputs": [
    {
     "data": {
      "text/plain": [
       "0.0013498980316301035"
      ]
     },
     "execution_count": 16,
     "metadata": {},
     "output_type": "execute_result"
    }
   ],
   "source": [
    "# Não recebi o alpha? Então é necessário descobrir!!\n",
    "n = 16\n",
    "var = 16\n",
    "sigma_barra = (var/n)**0.5\n",
    "mu_barra = 15\n",
    "\n",
    "# H0: mu<= 15 #lote falso\n",
    "# H1: mu > 15 #lote original\n",
    "\n",
    "alpha = 1 - stats.norm.cdf(18, loc=mu_barra, scale=sigma_barra)\n",
    "alpha"
   ]
  },
  {
   "cell_type": "code",
   "execution_count": 17,
   "metadata": {},
   "outputs": [
    {
     "name": "stdout",
     "output_type": "stream",
     "text": [
      "0.1350%\n"
     ]
    }
   ],
   "source": [
    "print(f'{alpha*100:.4f}%')"
   ]
  },
  {
   "cell_type": "code",
   "execution_count": null,
   "metadata": {},
   "outputs": [],
   "source": [
    "# Critica:\n",
    "# O leiloeiro está sendo muito criterioso. A probabilidade de ele aceitar um lote falso como verdadeiro é extremamente baixa \n",
    "# (erro tipo I pequeno). Entretanto, isto diminui a probabilidade de ele identificar lotes genuinos (erro tipo II maior).\n"
   ]
  },
  {
   "cell_type": "markdown",
   "metadata": {},
   "source": [
    "___\n",
    "\n",
    "<div id=\"ex3\"></div>\n",
    "\n",
    "### EXERCÍCIO 3\n",
    "\n",
    "Um estudo foi desenvolvido para avaliar a renda de pedreiros autônomos na cidade de São Paulo, o qual desconfia que a renda média seja superior a 3 salários mínimos. Admita que o desvio padrão dessa variável na cidade é de 0,7 salários mínimos. Foram sorteados e entrevistados 100 trabalhadores, cuja amostra forneceu média de 3,2 salários mínimos. \n",
    "\n",
    "**a.** Baseado nessa informação, formule as hipóteses H0 e H1 e interprete o erro do tipo I e erro do tipo II, sendo (erro I = rejeitar H0 | H0 verdade)  e (erro II = não rejeitar H0 | H0 falsa).\n",
    "\n",
    "**b.** Qual deve ser a conclusão do estudo considerando 1% de significância?\n",
    "\n",
    "**c.** Supondo que a hipótese nula seja verdadeira,  qual deve ser a probabilidade de observar um valor tão ou mais desfavorável à hipótese nula quanto a particular média amostral estimada. Qual a conclusão deste teste com 1% de significância?\n",
    "\n",
    "[Respostas](#respostas)"
   ]
  },
  {
   "cell_type": "code",
   "execution_count": null,
   "metadata": {},
   "outputs": [],
   "source": [
    "# ESCREVA SEU CÓDIGO AQUI"
   ]
  },
  {
   "cell_type": "code",
   "execution_count": 21,
   "metadata": {},
   "outputs": [],
   "source": [
    "n = 100\n",
    "mu = 3\n",
    "sigma = 0.7/n**0.5 #se refere a uma coisa unica"
   ]
  },
  {
   "cell_type": "code",
   "execution_count": 22,
   "metadata": {},
   "outputs": [],
   "source": [
    "# a)\n",
    "# H0: mu<= 3 # renda média seja inferior a 3 salários mínimos\n",
    "# H1: mu > 3 # renda média seja superior a 3 salários mínimos"
   ]
  },
  {
   "cell_type": "code",
   "execution_count": 23,
   "metadata": {},
   "outputs": [
    {
     "name": "stdout",
     "output_type": "stream",
     "text": [
      " RC = \\(x_obs | x_obs > 3.216)\n"
     ]
    }
   ],
   "source": [
    "# b)\n",
    "alpha = 0.001\n",
    "x_critico = stats.norm.ppf(1-alpha, loc=mu,scale=sigma)\n",
    "print(f' RC = \\(x_obs | x_obs > {x_critico:.3f})')"
   ]
  },
  {
   "cell_type": "code",
   "execution_count": null,
   "metadata": {},
   "outputs": [],
   "source": [
    "# Critica: não há evidencias de que o salario tenha aumentado com nivel de significancia de 1%"
   ]
  },
  {
   "cell_type": "markdown",
   "metadata": {},
   "source": [
    "___\n",
    "\n",
    "<div id=\"ex4\"></div>\n",
    "\n",
    "### EXERCÍCIO 4\n",
    "\n",
    "Em 2012, antes dos supermercados deixarem de distribuir sacolas plásticas gratuitamente para os consumidores, o consumo mensal de sacolas plásticas na cidade de São Paulo por adulto era, em média, de $25$ sacolas plásticas, com desvio padrão de $6$ unidades (valores populacionais). \n",
    "\n",
    "No mesmo ano, os estabelecimentos passaram a cobrar pelo uso das mesmas e depois voltaram atrás. Alguns anos se passaram e uma ONG da área de sustentabilidade deseja avaliar se essas idas e vindas deixaram o consumidor um pouco mais consciente com o meio ambiente. \n",
    "\n",
    "Para avaliar se consumo está mais consciente, verifique se o consumo de sacolas plásticas reduziu, em média, em mais do que $15\\%$ após todo esse período, ao nível de significância de $1\\%$?\n",
    "A ONG monitorou, por um mês, $100$ adultos moradores da cidade e observou que o consumo médio amostral de sacolas plásticas entre eles foi de $20.01$ unidades.\n",
    "\n",
    "\n",
    "[Respostas](#respostas)"
   ]
  },
  {
   "cell_type": "code",
   "execution_count": null,
   "metadata": {},
   "outputs": [],
   "source": [
    "# ESCREVA SUA RESPOSTA AQUI"
   ]
  },
  {
   "cell_type": "code",
   "execution_count": 31,
   "metadata": {},
   "outputs": [],
   "source": [
    "# Variáveis \n",
    "mu = 21.25\n",
    "sigma = 6\n",
    "alfa = 0.01\n",
    "n = 100\n",
    "mu_barra = 20.01\n",
    "sigma_barra = 6/n**0.5\n",
    "\n",
    "# H0: mu_barra >= 21.25\n",
    "# H1: mu_barra < 21.25"
   ]
  },
  {
   "cell_type": "code",
   "execution_count": 32,
   "metadata": {},
   "outputs": [
    {
     "data": {
      "text/plain": [
       "19.854191275575495"
      ]
     },
     "execution_count": 32,
     "metadata": {},
     "output_type": "execute_result"
    }
   ],
   "source": [
    "# Achar o x_critico\n",
    "x_critico = stats.norm.ppf(alfa, loc = mu, scale = sigma_barra)\n",
    "x_critico \n"
   ]
  },
  {
   "cell_type": "code",
   "execution_count": 35,
   "metadata": {},
   "outputs": [
    {
     "name": "stdout",
     "output_type": "stream",
     "text": [
      "Sempre que a media amostral for menor que 19.854191275575495 rejeitamos a hipótese nula\n",
      "Portanto não rejeita-se H0\n"
     ]
    }
   ],
   "source": [
    "print(f'Sempre que a media amostral for menor que {x_critico} rejeitamos a hipótese nula')\n",
    "print('Portanto não rejeita-se H0')"
   ]
  },
  {
   "cell_type": "markdown",
   "metadata": {},
   "source": [
    "<div id=\"respostas\"></div>\n",
    "\n",
    "## Respostas\n",
    "\n",
    "### [Exercício 1](#ex1)\n",
    "\n",
    "#### b)\n",
    "\n",
    "Hipóteses em termos do problema:\n",
    "$H_0:$ a desconfiança não procede\n",
    "$H_1:$ desconfiança procede\n",
    "\n",
    "Ou seja:\n",
    "\n",
    "$H_0: \\mu \\leq 2$\n",
    "\n",
    "$H_1: \\mu > 2$\n",
    "\n",
    "#### c)\n",
    "\n",
    "$RC=\\{\\overline{x}_{obs} > 2.164299912850546\\}$\n",
    "\n",
    "#### d)\n",
    "\n",
    "Refutamos a hipótese nula\n",
    "\n",
    "### [Exercício 2](#ex2)\n",
    "\n",
    "A conclusão deve ser tirada a partir do cálculo do nível de significância: $\\alpha=0.13498980316301035\\%$\n",
    "\n",
    "### [Exercício 3](#ex3)\n",
    "\n",
    "#### a) \n",
    "\n",
    "$H_0: \\mu \\leq 3$ : a renda média é de 3 s.m\n",
    "\n",
    "$H_1: \\mu > 3$ : a renda média é superior a 3 s.m\n",
    "\n",
    "Vamos adaptar o quadro de erros do tipo 1 e tipo 2 fornecido anteriormente nesta tabela\n",
    "\n",
    "<table style=\"width:50%\" >\n",
    "<tr> <td>&nbsp;</td><td>H_0 é verdadeiro</td><td>H_0 é Falso</td></tr>\n",
    "    <tr> <td rowspan=2>Rejeito H_0</td> <td rowspan=2><b>Erro to tipo 1:</b> Rejeitar que a média salarial é 3 s.m quando na verdade ela de fato é 3 s.m</td><td rowspan=2>Decisão correta</td> </tr>\n",
    "<tr></tr>\n",
    "<tr><td rowspan=2>Não rejeito H_0</td><td rowspan=2>Decisão correta</td><td rowspan=2><b>Erro do tipo 2:</b> Concluir que a média salarial não é maior que 3 s.m quando na verdade ela é maior</td> </tr>\n",
    "<tr></tr>\n",
    "</table>\n",
    "\n",
    "#### b)\n",
    "\n",
    "$RC =\\{ {\\overline{x}_{obs}>3.162844351182859} \\}$\n",
    "\n",
    "#### c)\n",
    "\n",
    "O valor-$p$ é $0.2137366980086264\\%$, que é menor do que 1\\%.\n",
    "\n",
    "### [Exercício 4](#ex4)\n",
    "\n",
    "Hipóteses:\n",
    "\n",
    "$H_0: \\mu \\geq 21.25 $\n",
    "\n",
    "$H_1: \\mu < 21.25$\n",
    "\n",
    "Região Crítica:\n",
    "\n",
    "$RC = \\{ \\overline{x}_{obs} < 19.854 \\}$\n",
    "\n",
    "Não refutamos a hipótese nula (não diga \"aceitamos H0\")."
   ]
  }
 ],
 "metadata": {
  "kernelspec": {
   "display_name": "Python 3.9.7 ('base')",
   "language": "python",
   "name": "python3"
  },
  "language_info": {
   "codemirror_mode": {
    "name": "ipython",
    "version": 3
   },
   "file_extension": ".py",
   "mimetype": "text/x-python",
   "name": "python",
   "nbconvert_exporter": "python",
   "pygments_lexer": "ipython3",
   "version": "3.9.7"
  },
  "vscode": {
   "interpreter": {
    "hash": "93626ebdf6b37739e4ac5700c0dba13041517f6c4b50580fe5c850e4df425864"
   }
  }
 },
 "nbformat": 4,
 "nbformat_minor": 2
}
